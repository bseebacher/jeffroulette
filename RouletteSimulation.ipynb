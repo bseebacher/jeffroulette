{
 "cells": [
  {
   "cell_type": "code",
   "execution_count": 7,
   "id": "bc4ae278",
   "metadata": {},
   "outputs": [],
   "source": [
    "import random\n",
    "\n",
    "def wheel_in_the_sky(bankroll, walkaway):\n",
    "    if walkaway <= bankroll:\n",
    "        raise Exception(\"Walkaway must be greater than Bankroll.\")\n",
    "        \n",
    "    bet = 1\n",
    "    pockets = [\"Group1\"] * 12 + [\"Group2\"] * 12 + [\"Group3\"] * 12 + [\"Green\"] * 2\n",
    "    last_three = [\"\", \"\", \"\"]\n",
    "    turns = []\n",
    "    next_bet = \"\"\n",
    "    wager = 0\n",
    "    win = 0\n",
    "    while bankroll > 0:\n",
    "        if bankroll >= walkaway:\n",
    "            return turns\n",
    "        \n",
    "        last_three.pop(0)\n",
    "        hit = random.choice(pockets)\n",
    "        last_three.append(hit) \n",
    "        \n",
    "        if hit == next_bet:\n",
    "            win = wager * 2\n",
    "            bankroll += win\n",
    "            wager = 0\n",
    "        else:\n",
    "            win = 0\n",
    "            bankroll -= wager\n",
    "            wager = wager * 2\n",
    "            \n",
    "        # identify an active betting section\n",
    "        if \"\" not in last_three:\n",
    "            if \"Group1\" not in last_three:\n",
    "                next_bet = \"Group1\"\n",
    "                if wager == 0:\n",
    "                    wager = 1\n",
    "            elif \"Group2\" not in last_three:\n",
    "                next_bet = \"Group2\"\n",
    "                if wager == 0:\n",
    "                    wager = 1\n",
    "            elif \"Group3\" not in last_three:\n",
    "                next_bet = \"Group3\"\n",
    "                if wager == 0:\n",
    "                    wager = 1\n",
    "            else:\n",
    "                next_bet = \"\"\n",
    "                wager = 0\n",
    "        else:\n",
    "            next_bet = \"\"\n",
    "\n",
    "        turns.append({ \"TurnNumber\" : i, \"LastThreeHits\" : last_three.copy(), \"NextBet\" : next_bet, \"NextWager\" : wager, \"Win\" : win, \"Bankroll\" : bankroll })\n",
    "    return turns\n"
   ]
  },
  {
   "cell_type": "code",
   "execution_count": 16,
   "id": "df2ea1a5",
   "metadata": {},
   "outputs": [
    {
     "name": "stdout",
     "output_type": "stream",
     "text": [
      "80.86\n",
      "714.0954736581746\n"
     ]
    }
   ],
   "source": [
    "journeys = []\n",
    "bankrolls = []\n",
    "wins = []\n",
    "\n",
    "for i in range(5000):\n",
    "    journeys.append(wheel_in_the_sky(512, 612)[-1:][0])\n",
    "\n",
    "for x in journeys:\n",
    "    bankrolls.append(x['Bankroll'])\n",
    "    if x['Bankroll'] > 0:\n",
    "        wins.append(x['Bankroll'])\n",
    "\n",
    "\n",
    "win_pct = (len([ele for ele in bankrolls if ele > 0]) / len(bankrolls)) * 100\n",
    "average_win = sum(wins) / len(wins)\n",
    "print(win_pct)\n",
    "print(average_win)\n"
   ]
  },
  {
   "cell_type": "code",
   "execution_count": null,
   "id": "0787f854",
   "metadata": {},
   "outputs": [],
   "source": []
  },
  {
   "cell_type": "code",
   "execution_count": null,
   "id": "88f5953e",
   "metadata": {},
   "outputs": [],
   "source": []
  }
 ],
 "metadata": {
  "kernelspec": {
   "display_name": "Python 3 (ipykernel)",
   "language": "python",
   "name": "python3"
  },
  "language_info": {
   "codemirror_mode": {
    "name": "ipython",
    "version": 3
   },
   "file_extension": ".py",
   "mimetype": "text/x-python",
   "name": "python",
   "nbconvert_exporter": "python",
   "pygments_lexer": "ipython3",
   "version": "3.9.13"
  }
 },
 "nbformat": 4,
 "nbformat_minor": 5
}
